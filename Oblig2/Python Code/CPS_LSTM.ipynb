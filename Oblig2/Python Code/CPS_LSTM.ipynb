{
  "nbformat": 4,
  "nbformat_minor": 0,
  "metadata": {
    "colab": {
      "provenance": [],
      "collapsed_sections": [
        "IfkpuVATvvZe",
        "BCmDucLEv1iF",
        "OSjVJfCL8qUc",
        "F9ocjUFaE1BQ",
        "xLOJlcuW2KDB",
        "QMC4GqDev8L4",
        "rya8KSyuGo-N",
        "SjgveGNgmofU"
      ]
    },
    "kernelspec": {
      "name": "python3",
      "display_name": "Python 3"
    },
    "language_info": {
      "name": "python"
    }
  },
  "cells": [
    {
      "cell_type": "code",
      "execution_count": null,
      "metadata": {
        "id": "ObrOLP_uvbxu"
      },
      "outputs": [],
      "source": [
        "import tensorflow as tf\n",
        "from tensorflow import keras\n",
        "import numpy as np\n",
        "import pandas as pd\n",
        "import matplotlib.pyplot as plt"
      ]
    },
    {
      "cell_type": "code",
      "source": [
        "from google.colab import drive\n",
        "drive.mount('/content/drive/')"
      ],
      "metadata": {
        "colab": {
          "base_uri": "https://localhost:8080/"
        },
        "id": "iewzfmN2oTTg",
        "outputId": "fb782030-1ea9-4c33-e3d5-35b5526b0509"
      },
      "execution_count": null,
      "outputs": [
        {
          "output_type": "stream",
          "name": "stdout",
          "text": [
            "Mounted at /content/drive/\n"
          ]
        }
      ]
    },
    {
      "cell_type": "code",
      "source": [
        "df = (pd.read_excel('/content/drive/MyDrive/Machine_learning/LSTM_RNN/OysteinsRoom-230210-2333.xlsx'))"
      ],
      "metadata": {
        "id": "PdBoGqkvoMTl"
      },
      "execution_count": null,
      "outputs": []
    },
    {
      "cell_type": "markdown",
      "source": [
        "# Inspecting the dataset"
      ],
      "metadata": {
        "id": "IfkpuVATvvZe"
      }
    },
    {
      "cell_type": "code",
      "source": [
        "print(df.shape)\n",
        "df"
      ],
      "metadata": {
        "colab": {
          "base_uri": "https://localhost:8080/",
          "height": 441
        },
        "id": "wfNDtoimrrjE",
        "outputId": "0da342b5-ab5e-45be-c2a3-593c5232e070"
      },
      "execution_count": null,
      "outputs": [
        {
          "output_type": "stream",
          "name": "stdout",
          "text": [
            "(796, 7)\n"
          ]
        },
        {
          "output_type": "execute_result",
          "data": {
            "text/plain": [
              "                                               id                 createAt  \\\n",
              "0    message_75fadf50-7cb9-435f-a356-f1dd0f355f9a  2023-02-10 10:19:17:945   \n",
              "1    message_d3af4c36-f6a7-4a81-9436-c15950b0471e  2023-02-10 10:20:17:950   \n",
              "2    message_45c7df3e-02b4-48a5-af47-9d327bfa51cd  2023-02-10 10:21:17:955   \n",
              "3    message_a8fa07e5-a32d-41b4-bcf5-1ca304d656fc  2023-02-10 10:22:17:950   \n",
              "4    message_1b260b86-0884-4bde-b5bb-2248f96ef68d  2023-02-10 10:23:17:950   \n",
              "..                                            ...                      ...   \n",
              "791  message_5bffa05d-3726-4bb1-954f-514a56260b35  2023-02-10 23:29:16:999   \n",
              "792  message_32540447-1e3e-44b9-9893-b00d0f58c64e  2023-02-10 23:30:17:002   \n",
              "793  message_9f203e0c-0070-461e-ba7d-7516eb27e205  2023-02-10 23:31:16:985   \n",
              "794  message_80c1032f-3afc-4368-aab2-cd0432f4f827  2023-02-10 23:32:16:978   \n",
              "795  message_b1cd742d-91d9-4e0d-878c-7314baa3abc8  2023-02-10 23:33:16:975   \n",
              "\n",
              "                                               payload   RIGHT  LEFT  \\\n",
              "0    {\"temperature\":{\"id\":1,\"txt\":\"temperature\",\"t\"...  20.5}}  20.5   \n",
              "1    {\"temperature\":{\"id\":1,\"txt\":\"temperature\",\"t\"...  20.5}}  20.5   \n",
              "2    {\"temperature\":{\"id\":1,\"txt\":\"temperature\",\"t\"...  20.5}}  20.5   \n",
              "3    {\"temperature\":{\"id\":1,\"txt\":\"temperature\",\"t\"...  20.5}}  20.5   \n",
              "4    {\"temperature\":{\"id\":1,\"txt\":\"temperature\",\"t\"...  20.5}}  20.5   \n",
              "..                                                 ...     ...   ...   \n",
              "791  {\"temperature\":{\"id\":1,\"txt\":\"temperature\",\"t\"...  19.2}}  19.2   \n",
              "792  {\"temperature\":{\"id\":1,\"txt\":\"temperature\",\"t\"...  19.2}}  19.2   \n",
              "793  {\"temperature\":{\"id\":1,\"txt\":\"temperature\",\"t\"...  19.1}}  19.1   \n",
              "794  {\"temperature\":{\"id\":1,\"txt\":\"temperature\",\"t\"...  19.1}}  19.1   \n",
              "795  {\"temperature\":{\"id\":1,\"txt\":\"temperature\",\"t\"...  19.1}}  19.1   \n",
              "\n",
              "     temperature ON/OFF  \n",
              "0           20.5     ON  \n",
              "1           20.5     ON  \n",
              "2           20.5     ON  \n",
              "3           20.5     ON  \n",
              "4           20.5     ON  \n",
              "..           ...    ...  \n",
              "791         19.2     ON  \n",
              "792         19.2     ON  \n",
              "793         19.1     ON  \n",
              "794         19.1     ON  \n",
              "795         19.1     ON  \n",
              "\n",
              "[796 rows x 7 columns]"
            ],
            "text/html": [
              "\n",
              "  <div id=\"df-03590216-d967-4f47-9bfe-746f8ecaf99f\">\n",
              "    <div class=\"colab-df-container\">\n",
              "      <div>\n",
              "<style scoped>\n",
              "    .dataframe tbody tr th:only-of-type {\n",
              "        vertical-align: middle;\n",
              "    }\n",
              "\n",
              "    .dataframe tbody tr th {\n",
              "        vertical-align: top;\n",
              "    }\n",
              "\n",
              "    .dataframe thead th {\n",
              "        text-align: right;\n",
              "    }\n",
              "</style>\n",
              "<table border=\"1\" class=\"dataframe\">\n",
              "  <thead>\n",
              "    <tr style=\"text-align: right;\">\n",
              "      <th></th>\n",
              "      <th>id</th>\n",
              "      <th>createAt</th>\n",
              "      <th>payload</th>\n",
              "      <th>RIGHT</th>\n",
              "      <th>LEFT</th>\n",
              "      <th>temperature</th>\n",
              "      <th>ON/OFF</th>\n",
              "    </tr>\n",
              "  </thead>\n",
              "  <tbody>\n",
              "    <tr>\n",
              "      <th>0</th>\n",
              "      <td>message_75fadf50-7cb9-435f-a356-f1dd0f355f9a</td>\n",
              "      <td>2023-02-10 10:19:17:945</td>\n",
              "      <td>{\"temperature\":{\"id\":1,\"txt\":\"temperature\",\"t\"...</td>\n",
              "      <td>20.5}}</td>\n",
              "      <td>20.5</td>\n",
              "      <td>20.5</td>\n",
              "      <td>ON</td>\n",
              "    </tr>\n",
              "    <tr>\n",
              "      <th>1</th>\n",
              "      <td>message_d3af4c36-f6a7-4a81-9436-c15950b0471e</td>\n",
              "      <td>2023-02-10 10:20:17:950</td>\n",
              "      <td>{\"temperature\":{\"id\":1,\"txt\":\"temperature\",\"t\"...</td>\n",
              "      <td>20.5}}</td>\n",
              "      <td>20.5</td>\n",
              "      <td>20.5</td>\n",
              "      <td>ON</td>\n",
              "    </tr>\n",
              "    <tr>\n",
              "      <th>2</th>\n",
              "      <td>message_45c7df3e-02b4-48a5-af47-9d327bfa51cd</td>\n",
              "      <td>2023-02-10 10:21:17:955</td>\n",
              "      <td>{\"temperature\":{\"id\":1,\"txt\":\"temperature\",\"t\"...</td>\n",
              "      <td>20.5}}</td>\n",
              "      <td>20.5</td>\n",
              "      <td>20.5</td>\n",
              "      <td>ON</td>\n",
              "    </tr>\n",
              "    <tr>\n",
              "      <th>3</th>\n",
              "      <td>message_a8fa07e5-a32d-41b4-bcf5-1ca304d656fc</td>\n",
              "      <td>2023-02-10 10:22:17:950</td>\n",
              "      <td>{\"temperature\":{\"id\":1,\"txt\":\"temperature\",\"t\"...</td>\n",
              "      <td>20.5}}</td>\n",
              "      <td>20.5</td>\n",
              "      <td>20.5</td>\n",
              "      <td>ON</td>\n",
              "    </tr>\n",
              "    <tr>\n",
              "      <th>4</th>\n",
              "      <td>message_1b260b86-0884-4bde-b5bb-2248f96ef68d</td>\n",
              "      <td>2023-02-10 10:23:17:950</td>\n",
              "      <td>{\"temperature\":{\"id\":1,\"txt\":\"temperature\",\"t\"...</td>\n",
              "      <td>20.5}}</td>\n",
              "      <td>20.5</td>\n",
              "      <td>20.5</td>\n",
              "      <td>ON</td>\n",
              "    </tr>\n",
              "    <tr>\n",
              "      <th>...</th>\n",
              "      <td>...</td>\n",
              "      <td>...</td>\n",
              "      <td>...</td>\n",
              "      <td>...</td>\n",
              "      <td>...</td>\n",
              "      <td>...</td>\n",
              "      <td>...</td>\n",
              "    </tr>\n",
              "    <tr>\n",
              "      <th>791</th>\n",
              "      <td>message_5bffa05d-3726-4bb1-954f-514a56260b35</td>\n",
              "      <td>2023-02-10 23:29:16:999</td>\n",
              "      <td>{\"temperature\":{\"id\":1,\"txt\":\"temperature\",\"t\"...</td>\n",
              "      <td>19.2}}</td>\n",
              "      <td>19.2</td>\n",
              "      <td>19.2</td>\n",
              "      <td>ON</td>\n",
              "    </tr>\n",
              "    <tr>\n",
              "      <th>792</th>\n",
              "      <td>message_32540447-1e3e-44b9-9893-b00d0f58c64e</td>\n",
              "      <td>2023-02-10 23:30:17:002</td>\n",
              "      <td>{\"temperature\":{\"id\":1,\"txt\":\"temperature\",\"t\"...</td>\n",
              "      <td>19.2}}</td>\n",
              "      <td>19.2</td>\n",
              "      <td>19.2</td>\n",
              "      <td>ON</td>\n",
              "    </tr>\n",
              "    <tr>\n",
              "      <th>793</th>\n",
              "      <td>message_9f203e0c-0070-461e-ba7d-7516eb27e205</td>\n",
              "      <td>2023-02-10 23:31:16:985</td>\n",
              "      <td>{\"temperature\":{\"id\":1,\"txt\":\"temperature\",\"t\"...</td>\n",
              "      <td>19.1}}</td>\n",
              "      <td>19.1</td>\n",
              "      <td>19.1</td>\n",
              "      <td>ON</td>\n",
              "    </tr>\n",
              "    <tr>\n",
              "      <th>794</th>\n",
              "      <td>message_80c1032f-3afc-4368-aab2-cd0432f4f827</td>\n",
              "      <td>2023-02-10 23:32:16:978</td>\n",
              "      <td>{\"temperature\":{\"id\":1,\"txt\":\"temperature\",\"t\"...</td>\n",
              "      <td>19.1}}</td>\n",
              "      <td>19.1</td>\n",
              "      <td>19.1</td>\n",
              "      <td>ON</td>\n",
              "    </tr>\n",
              "    <tr>\n",
              "      <th>795</th>\n",
              "      <td>message_b1cd742d-91d9-4e0d-878c-7314baa3abc8</td>\n",
              "      <td>2023-02-10 23:33:16:975</td>\n",
              "      <td>{\"temperature\":{\"id\":1,\"txt\":\"temperature\",\"t\"...</td>\n",
              "      <td>19.1}}</td>\n",
              "      <td>19.1</td>\n",
              "      <td>19.1</td>\n",
              "      <td>ON</td>\n",
              "    </tr>\n",
              "  </tbody>\n",
              "</table>\n",
              "<p>796 rows × 7 columns</p>\n",
              "</div>\n",
              "      <button class=\"colab-df-convert\" onclick=\"convertToInteractive('df-03590216-d967-4f47-9bfe-746f8ecaf99f')\"\n",
              "              title=\"Convert this dataframe to an interactive table.\"\n",
              "              style=\"display:none;\">\n",
              "        \n",
              "  <svg xmlns=\"http://www.w3.org/2000/svg\" height=\"24px\"viewBox=\"0 0 24 24\"\n",
              "       width=\"24px\">\n",
              "    <path d=\"M0 0h24v24H0V0z\" fill=\"none\"/>\n",
              "    <path d=\"M18.56 5.44l.94 2.06.94-2.06 2.06-.94-2.06-.94-.94-2.06-.94 2.06-2.06.94zm-11 1L8.5 8.5l.94-2.06 2.06-.94-2.06-.94L8.5 2.5l-.94 2.06-2.06.94zm10 10l.94 2.06.94-2.06 2.06-.94-2.06-.94-.94-2.06-.94 2.06-2.06.94z\"/><path d=\"M17.41 7.96l-1.37-1.37c-.4-.4-.92-.59-1.43-.59-.52 0-1.04.2-1.43.59L10.3 9.45l-7.72 7.72c-.78.78-.78 2.05 0 2.83L4 21.41c.39.39.9.59 1.41.59.51 0 1.02-.2 1.41-.59l7.78-7.78 2.81-2.81c.8-.78.8-2.07 0-2.86zM5.41 20L4 18.59l7.72-7.72 1.47 1.35L5.41 20z\"/>\n",
              "  </svg>\n",
              "      </button>\n",
              "      \n",
              "  <style>\n",
              "    .colab-df-container {\n",
              "      display:flex;\n",
              "      flex-wrap:wrap;\n",
              "      gap: 12px;\n",
              "    }\n",
              "\n",
              "    .colab-df-convert {\n",
              "      background-color: #E8F0FE;\n",
              "      border: none;\n",
              "      border-radius: 50%;\n",
              "      cursor: pointer;\n",
              "      display: none;\n",
              "      fill: #1967D2;\n",
              "      height: 32px;\n",
              "      padding: 0 0 0 0;\n",
              "      width: 32px;\n",
              "    }\n",
              "\n",
              "    .colab-df-convert:hover {\n",
              "      background-color: #E2EBFA;\n",
              "      box-shadow: 0px 1px 2px rgba(60, 64, 67, 0.3), 0px 1px 3px 1px rgba(60, 64, 67, 0.15);\n",
              "      fill: #174EA6;\n",
              "    }\n",
              "\n",
              "    [theme=dark] .colab-df-convert {\n",
              "      background-color: #3B4455;\n",
              "      fill: #D2E3FC;\n",
              "    }\n",
              "\n",
              "    [theme=dark] .colab-df-convert:hover {\n",
              "      background-color: #434B5C;\n",
              "      box-shadow: 0px 1px 3px 1px rgba(0, 0, 0, 0.15);\n",
              "      filter: drop-shadow(0px 1px 2px rgba(0, 0, 0, 0.3));\n",
              "      fill: #FFFFFF;\n",
              "    }\n",
              "  </style>\n",
              "\n",
              "      <script>\n",
              "        const buttonEl =\n",
              "          document.querySelector('#df-03590216-d967-4f47-9bfe-746f8ecaf99f button.colab-df-convert');\n",
              "        buttonEl.style.display =\n",
              "          google.colab.kernel.accessAllowed ? 'block' : 'none';\n",
              "\n",
              "        async function convertToInteractive(key) {\n",
              "          const element = document.querySelector('#df-03590216-d967-4f47-9bfe-746f8ecaf99f');\n",
              "          const dataTable =\n",
              "            await google.colab.kernel.invokeFunction('convertToInteractive',\n",
              "                                                     [key], {});\n",
              "          if (!dataTable) return;\n",
              "\n",
              "          const docLinkHtml = 'Like what you see? Visit the ' +\n",
              "            '<a target=\"_blank\" href=https://colab.research.google.com/notebooks/data_table.ipynb>data table notebook</a>'\n",
              "            + ' to learn more about interactive tables.';\n",
              "          element.innerHTML = '';\n",
              "          dataTable['output_type'] = 'display_data';\n",
              "          await google.colab.output.renderOutput(dataTable, element);\n",
              "          const docLink = document.createElement('div');\n",
              "          docLink.innerHTML = docLinkHtml;\n",
              "          element.appendChild(docLink);\n",
              "        }\n",
              "      </script>\n",
              "    </div>\n",
              "  </div>\n",
              "  "
            ]
          },
          "metadata": {},
          "execution_count": 4
        }
      ]
    },
    {
      "cell_type": "code",
      "source": [
        "df._get_numeric_data().columns"
      ],
      "metadata": {
        "colab": {
          "base_uri": "https://localhost:8080/"
        },
        "id": "BmI20bEKqD5k",
        "outputId": "88ee275e-3517-4c3e-c76c-db591cb350c0"
      },
      "execution_count": null,
      "outputs": [
        {
          "output_type": "execute_result",
          "data": {
            "text/plain": [
              "Index(['LEFT', 'temperature'], dtype='object')"
            ]
          },
          "metadata": {},
          "execution_count": 5
        }
      ]
    },
    {
      "cell_type": "code",
      "source": [
        "df.select_dtypes(include = [\"object\"]).columns"
      ],
      "metadata": {
        "colab": {
          "base_uri": "https://localhost:8080/"
        },
        "id": "7I5svmTQqthe",
        "outputId": "190edf2c-a4df-4342-a521-6cd8eb2275a1"
      },
      "execution_count": null,
      "outputs": [
        {
          "output_type": "execute_result",
          "data": {
            "text/plain": [
              "Index(['id', 'createAt', 'payload', 'RIGHT', 'ON/OFF'], dtype='object')"
            ]
          },
          "metadata": {},
          "execution_count": 6
        }
      ]
    },
    {
      "cell_type": "code",
      "source": [
        "df['createAt'] = pd.to_datetime(df['createAt'], utc= True, yearfirst=True, format='%Y-%m-%d %H:%M:%S:%f')"
      ],
      "metadata": {
        "id": "Qb6SaiV_QFn6"
      },
      "execution_count": null,
      "outputs": []
    },
    {
      "cell_type": "code",
      "source": [
        "df.info()"
      ],
      "metadata": {
        "colab": {
          "base_uri": "https://localhost:8080/"
        },
        "id": "LCBp8JY7TFY_",
        "outputId": "948cae95-8815-4927-d01b-634119bce9c2"
      },
      "execution_count": null,
      "outputs": [
        {
          "output_type": "stream",
          "name": "stdout",
          "text": [
            "<class 'pandas.core.frame.DataFrame'>\n",
            "RangeIndex: 796 entries, 0 to 795\n",
            "Data columns (total 7 columns):\n",
            " #   Column       Non-Null Count  Dtype              \n",
            "---  ------       --------------  -----              \n",
            " 0   id           796 non-null    object             \n",
            " 1   createAt     796 non-null    datetime64[ns, UTC]\n",
            " 2   payload      796 non-null    object             \n",
            " 3   RIGHT        796 non-null    object             \n",
            " 4   LEFT         796 non-null    float64            \n",
            " 5   temperature  796 non-null    float64            \n",
            " 6   ON/OFF       796 non-null    object             \n",
            "dtypes: datetime64[ns, UTC](1), float64(2), object(4)\n",
            "memory usage: 43.7+ KB\n"
          ]
        }
      ]
    },
    {
      "cell_type": "code",
      "source": [
        "df['Year'] = df['createAt'].dt.year\n",
        "df['Month'] = df['createAt'].dt.month\n",
        "df['Day'] = df['createAt'].dt.day\n",
        "\n",
        "df['Hour'] = df['createAt'].dt.hour\n",
        "df['Min'] = df['createAt'].dt.minute\n",
        "df['Sec'] = df['createAt'].dt.second\n",
        "df.head(5)"
      ],
      "metadata": {
        "colab": {
          "base_uri": "https://localhost:8080/",
          "height": 206
        },
        "id": "grtkuNuRTOtP",
        "outputId": "99ac8918-3be9-4030-e54f-7c6dc97860cb"
      },
      "execution_count": null,
      "outputs": [
        {
          "output_type": "execute_result",
          "data": {
            "text/plain": [
              "                                             id  \\\n",
              "0  message_75fadf50-7cb9-435f-a356-f1dd0f355f9a   \n",
              "1  message_d3af4c36-f6a7-4a81-9436-c15950b0471e   \n",
              "2  message_45c7df3e-02b4-48a5-af47-9d327bfa51cd   \n",
              "3  message_a8fa07e5-a32d-41b4-bcf5-1ca304d656fc   \n",
              "4  message_1b260b86-0884-4bde-b5bb-2248f96ef68d   \n",
              "\n",
              "                          createAt  \\\n",
              "0 2023-02-10 10:19:17.945000+00:00   \n",
              "1 2023-02-10 10:20:17.950000+00:00   \n",
              "2 2023-02-10 10:21:17.955000+00:00   \n",
              "3 2023-02-10 10:22:17.950000+00:00   \n",
              "4 2023-02-10 10:23:17.950000+00:00   \n",
              "\n",
              "                                             payload   RIGHT  LEFT  \\\n",
              "0  {\"temperature\":{\"id\":1,\"txt\":\"temperature\",\"t\"...  20.5}}  20.5   \n",
              "1  {\"temperature\":{\"id\":1,\"txt\":\"temperature\",\"t\"...  20.5}}  20.5   \n",
              "2  {\"temperature\":{\"id\":1,\"txt\":\"temperature\",\"t\"...  20.5}}  20.5   \n",
              "3  {\"temperature\":{\"id\":1,\"txt\":\"temperature\",\"t\"...  20.5}}  20.5   \n",
              "4  {\"temperature\":{\"id\":1,\"txt\":\"temperature\",\"t\"...  20.5}}  20.5   \n",
              "\n",
              "   temperature ON/OFF  Year  Month  Day  Hour  Min  Sec  \n",
              "0         20.5     ON  2023      2   10    10   19   17  \n",
              "1         20.5     ON  2023      2   10    10   20   17  \n",
              "2         20.5     ON  2023      2   10    10   21   17  \n",
              "3         20.5     ON  2023      2   10    10   22   17  \n",
              "4         20.5     ON  2023      2   10    10   23   17  "
            ],
            "text/html": [
              "\n",
              "  <div id=\"df-335d6321-321e-47f6-ac72-47c546c0f159\">\n",
              "    <div class=\"colab-df-container\">\n",
              "      <div>\n",
              "<style scoped>\n",
              "    .dataframe tbody tr th:only-of-type {\n",
              "        vertical-align: middle;\n",
              "    }\n",
              "\n",
              "    .dataframe tbody tr th {\n",
              "        vertical-align: top;\n",
              "    }\n",
              "\n",
              "    .dataframe thead th {\n",
              "        text-align: right;\n",
              "    }\n",
              "</style>\n",
              "<table border=\"1\" class=\"dataframe\">\n",
              "  <thead>\n",
              "    <tr style=\"text-align: right;\">\n",
              "      <th></th>\n",
              "      <th>id</th>\n",
              "      <th>createAt</th>\n",
              "      <th>payload</th>\n",
              "      <th>RIGHT</th>\n",
              "      <th>LEFT</th>\n",
              "      <th>temperature</th>\n",
              "      <th>ON/OFF</th>\n",
              "      <th>Year</th>\n",
              "      <th>Month</th>\n",
              "      <th>Day</th>\n",
              "      <th>Hour</th>\n",
              "      <th>Min</th>\n",
              "      <th>Sec</th>\n",
              "    </tr>\n",
              "  </thead>\n",
              "  <tbody>\n",
              "    <tr>\n",
              "      <th>0</th>\n",
              "      <td>message_75fadf50-7cb9-435f-a356-f1dd0f355f9a</td>\n",
              "      <td>2023-02-10 10:19:17.945000+00:00</td>\n",
              "      <td>{\"temperature\":{\"id\":1,\"txt\":\"temperature\",\"t\"...</td>\n",
              "      <td>20.5}}</td>\n",
              "      <td>20.5</td>\n",
              "      <td>20.5</td>\n",
              "      <td>ON</td>\n",
              "      <td>2023</td>\n",
              "      <td>2</td>\n",
              "      <td>10</td>\n",
              "      <td>10</td>\n",
              "      <td>19</td>\n",
              "      <td>17</td>\n",
              "    </tr>\n",
              "    <tr>\n",
              "      <th>1</th>\n",
              "      <td>message_d3af4c36-f6a7-4a81-9436-c15950b0471e</td>\n",
              "      <td>2023-02-10 10:20:17.950000+00:00</td>\n",
              "      <td>{\"temperature\":{\"id\":1,\"txt\":\"temperature\",\"t\"...</td>\n",
              "      <td>20.5}}</td>\n",
              "      <td>20.5</td>\n",
              "      <td>20.5</td>\n",
              "      <td>ON</td>\n",
              "      <td>2023</td>\n",
              "      <td>2</td>\n",
              "      <td>10</td>\n",
              "      <td>10</td>\n",
              "      <td>20</td>\n",
              "      <td>17</td>\n",
              "    </tr>\n",
              "    <tr>\n",
              "      <th>2</th>\n",
              "      <td>message_45c7df3e-02b4-48a5-af47-9d327bfa51cd</td>\n",
              "      <td>2023-02-10 10:21:17.955000+00:00</td>\n",
              "      <td>{\"temperature\":{\"id\":1,\"txt\":\"temperature\",\"t\"...</td>\n",
              "      <td>20.5}}</td>\n",
              "      <td>20.5</td>\n",
              "      <td>20.5</td>\n",
              "      <td>ON</td>\n",
              "      <td>2023</td>\n",
              "      <td>2</td>\n",
              "      <td>10</td>\n",
              "      <td>10</td>\n",
              "      <td>21</td>\n",
              "      <td>17</td>\n",
              "    </tr>\n",
              "    <tr>\n",
              "      <th>3</th>\n",
              "      <td>message_a8fa07e5-a32d-41b4-bcf5-1ca304d656fc</td>\n",
              "      <td>2023-02-10 10:22:17.950000+00:00</td>\n",
              "      <td>{\"temperature\":{\"id\":1,\"txt\":\"temperature\",\"t\"...</td>\n",
              "      <td>20.5}}</td>\n",
              "      <td>20.5</td>\n",
              "      <td>20.5</td>\n",
              "      <td>ON</td>\n",
              "      <td>2023</td>\n",
              "      <td>2</td>\n",
              "      <td>10</td>\n",
              "      <td>10</td>\n",
              "      <td>22</td>\n",
              "      <td>17</td>\n",
              "    </tr>\n",
              "    <tr>\n",
              "      <th>4</th>\n",
              "      <td>message_1b260b86-0884-4bde-b5bb-2248f96ef68d</td>\n",
              "      <td>2023-02-10 10:23:17.950000+00:00</td>\n",
              "      <td>{\"temperature\":{\"id\":1,\"txt\":\"temperature\",\"t\"...</td>\n",
              "      <td>20.5}}</td>\n",
              "      <td>20.5</td>\n",
              "      <td>20.5</td>\n",
              "      <td>ON</td>\n",
              "      <td>2023</td>\n",
              "      <td>2</td>\n",
              "      <td>10</td>\n",
              "      <td>10</td>\n",
              "      <td>23</td>\n",
              "      <td>17</td>\n",
              "    </tr>\n",
              "  </tbody>\n",
              "</table>\n",
              "</div>\n",
              "      <button class=\"colab-df-convert\" onclick=\"convertToInteractive('df-335d6321-321e-47f6-ac72-47c546c0f159')\"\n",
              "              title=\"Convert this dataframe to an interactive table.\"\n",
              "              style=\"display:none;\">\n",
              "        \n",
              "  <svg xmlns=\"http://www.w3.org/2000/svg\" height=\"24px\"viewBox=\"0 0 24 24\"\n",
              "       width=\"24px\">\n",
              "    <path d=\"M0 0h24v24H0V0z\" fill=\"none\"/>\n",
              "    <path d=\"M18.56 5.44l.94 2.06.94-2.06 2.06-.94-2.06-.94-.94-2.06-.94 2.06-2.06.94zm-11 1L8.5 8.5l.94-2.06 2.06-.94-2.06-.94L8.5 2.5l-.94 2.06-2.06.94zm10 10l.94 2.06.94-2.06 2.06-.94-2.06-.94-.94-2.06-.94 2.06-2.06.94z\"/><path d=\"M17.41 7.96l-1.37-1.37c-.4-.4-.92-.59-1.43-.59-.52 0-1.04.2-1.43.59L10.3 9.45l-7.72 7.72c-.78.78-.78 2.05 0 2.83L4 21.41c.39.39.9.59 1.41.59.51 0 1.02-.2 1.41-.59l7.78-7.78 2.81-2.81c.8-.78.8-2.07 0-2.86zM5.41 20L4 18.59l7.72-7.72 1.47 1.35L5.41 20z\"/>\n",
              "  </svg>\n",
              "      </button>\n",
              "      \n",
              "  <style>\n",
              "    .colab-df-container {\n",
              "      display:flex;\n",
              "      flex-wrap:wrap;\n",
              "      gap: 12px;\n",
              "    }\n",
              "\n",
              "    .colab-df-convert {\n",
              "      background-color: #E8F0FE;\n",
              "      border: none;\n",
              "      border-radius: 50%;\n",
              "      cursor: pointer;\n",
              "      display: none;\n",
              "      fill: #1967D2;\n",
              "      height: 32px;\n",
              "      padding: 0 0 0 0;\n",
              "      width: 32px;\n",
              "    }\n",
              "\n",
              "    .colab-df-convert:hover {\n",
              "      background-color: #E2EBFA;\n",
              "      box-shadow: 0px 1px 2px rgba(60, 64, 67, 0.3), 0px 1px 3px 1px rgba(60, 64, 67, 0.15);\n",
              "      fill: #174EA6;\n",
              "    }\n",
              "\n",
              "    [theme=dark] .colab-df-convert {\n",
              "      background-color: #3B4455;\n",
              "      fill: #D2E3FC;\n",
              "    }\n",
              "\n",
              "    [theme=dark] .colab-df-convert:hover {\n",
              "      background-color: #434B5C;\n",
              "      box-shadow: 0px 1px 3px 1px rgba(0, 0, 0, 0.15);\n",
              "      filter: drop-shadow(0px 1px 2px rgba(0, 0, 0, 0.3));\n",
              "      fill: #FFFFFF;\n",
              "    }\n",
              "  </style>\n",
              "\n",
              "      <script>\n",
              "        const buttonEl =\n",
              "          document.querySelector('#df-335d6321-321e-47f6-ac72-47c546c0f159 button.colab-df-convert');\n",
              "        buttonEl.style.display =\n",
              "          google.colab.kernel.accessAllowed ? 'block' : 'none';\n",
              "\n",
              "        async function convertToInteractive(key) {\n",
              "          const element = document.querySelector('#df-335d6321-321e-47f6-ac72-47c546c0f159');\n",
              "          const dataTable =\n",
              "            await google.colab.kernel.invokeFunction('convertToInteractive',\n",
              "                                                     [key], {});\n",
              "          if (!dataTable) return;\n",
              "\n",
              "          const docLinkHtml = 'Like what you see? Visit the ' +\n",
              "            '<a target=\"_blank\" href=https://colab.research.google.com/notebooks/data_table.ipynb>data table notebook</a>'\n",
              "            + ' to learn more about interactive tables.';\n",
              "          element.innerHTML = '';\n",
              "          dataTable['output_type'] = 'display_data';\n",
              "          await google.colab.output.renderOutput(dataTable, element);\n",
              "          const docLink = document.createElement('div');\n",
              "          docLink.innerHTML = docLinkHtml;\n",
              "          element.appendChild(docLink);\n",
              "        }\n",
              "      </script>\n",
              "    </div>\n",
              "  </div>\n",
              "  "
            ]
          },
          "metadata": {},
          "execution_count": 9
        }
      ]
    },
    {
      "cell_type": "code",
      "source": [
        "df['RIGHT']"
      ],
      "metadata": {
        "colab": {
          "base_uri": "https://localhost:8080/"
        },
        "id": "kqkeRQavbSR5",
        "outputId": "33687da3-55dc-4249-c9a1-d28b962db741"
      },
      "execution_count": null,
      "outputs": [
        {
          "output_type": "execute_result",
          "data": {
            "text/plain": [
              "0      20.5}}\n",
              "1      20.5}}\n",
              "2      20.5}}\n",
              "3      20.5}}\n",
              "4      20.5}}\n",
              "        ...  \n",
              "791    19.2}}\n",
              "792    19.2}}\n",
              "793    19.1}}\n",
              "794    19.1}}\n",
              "795    19.1}}\n",
              "Name: RIGHT, Length: 796, dtype: object"
            ]
          },
          "metadata": {},
          "execution_count": 10
        }
      ]
    },
    {
      "cell_type": "code",
      "source": [
        "df = df.drop('createAt', axis=1)\n",
        "df = df.drop('LEFT', axis=1)\n",
        "df = df.drop('RIGHT', axis=1)\n",
        "df = df.drop('id', axis=1)\n",
        "df = df.drop('payload', axis=1)"
      ],
      "metadata": {
        "id": "CEuIZkz8bkWN"
      },
      "execution_count": null,
      "outputs": []
    },
    {
      "cell_type": "markdown",
      "source": [
        "# Encode the dataset"
      ],
      "metadata": {
        "id": "BCmDucLEv1iF"
      }
    },
    {
      "cell_type": "code",
      "source": [
        "from sklearn.preprocessing import OneHotEncoder\n",
        "df.info()"
      ],
      "metadata": {
        "id": "BsSx1YPmr9NH",
        "colab": {
          "base_uri": "https://localhost:8080/"
        },
        "outputId": "1b5e0874-c8b8-40ab-b1c0-aa76b0e82b02"
      },
      "execution_count": null,
      "outputs": [
        {
          "output_type": "stream",
          "name": "stdout",
          "text": [
            "<class 'pandas.core.frame.DataFrame'>\n",
            "RangeIndex: 796 entries, 0 to 795\n",
            "Data columns (total 8 columns):\n",
            " #   Column       Non-Null Count  Dtype  \n",
            "---  ------       --------------  -----  \n",
            " 0   temperature  796 non-null    float64\n",
            " 1   ON/OFF       796 non-null    object \n",
            " 2   Year         796 non-null    int64  \n",
            " 3   Month        796 non-null    int64  \n",
            " 4   Day          796 non-null    int64  \n",
            " 5   Hour         796 non-null    int64  \n",
            " 6   Min          796 non-null    int64  \n",
            " 7   Sec          796 non-null    int64  \n",
            "dtypes: float64(1), int64(6), object(1)\n",
            "memory usage: 49.9+ KB\n"
          ]
        }
      ]
    },
    {
      "cell_type": "code",
      "source": [
        "# Import label encoder \n",
        "from sklearn import preprocessing\n",
        "label_encoder = preprocessing.LabelEncoder()\n",
        "\n",
        "df2 = df.copy()\n",
        "\n",
        "for x in df2.select_dtypes(include = [\"object\"]).columns:\n",
        "  df2[x]= label_encoder.fit_transform(df2[x])\n",
        "df2"
      ],
      "metadata": {
        "colab": {
          "base_uri": "https://localhost:8080/",
          "height": 424
        },
        "id": "iMizcMELtjW5",
        "outputId": "4728e672-d3c5-4046-fdf8-6f426947313e"
      },
      "execution_count": null,
      "outputs": [
        {
          "output_type": "execute_result",
          "data": {
            "text/plain": [
              "     temperature  ON/OFF  Year  Month  Day  Hour  Min  Sec\n",
              "0           20.5       1  2023      2   10    10   19   17\n",
              "1           20.5       1  2023      2   10    10   20   17\n",
              "2           20.5       1  2023      2   10    10   21   17\n",
              "3           20.5       1  2023      2   10    10   22   17\n",
              "4           20.5       1  2023      2   10    10   23   17\n",
              "..           ...     ...   ...    ...  ...   ...  ...  ...\n",
              "791         19.2       1  2023      2   10    23   29   16\n",
              "792         19.2       1  2023      2   10    23   30   17\n",
              "793         19.1       1  2023      2   10    23   31   16\n",
              "794         19.1       1  2023      2   10    23   32   16\n",
              "795         19.1       1  2023      2   10    23   33   16\n",
              "\n",
              "[796 rows x 8 columns]"
            ],
            "text/html": [
              "\n",
              "  <div id=\"df-2def0d7f-864f-4ba5-a3ab-b8774c18e65e\">\n",
              "    <div class=\"colab-df-container\">\n",
              "      <div>\n",
              "<style scoped>\n",
              "    .dataframe tbody tr th:only-of-type {\n",
              "        vertical-align: middle;\n",
              "    }\n",
              "\n",
              "    .dataframe tbody tr th {\n",
              "        vertical-align: top;\n",
              "    }\n",
              "\n",
              "    .dataframe thead th {\n",
              "        text-align: right;\n",
              "    }\n",
              "</style>\n",
              "<table border=\"1\" class=\"dataframe\">\n",
              "  <thead>\n",
              "    <tr style=\"text-align: right;\">\n",
              "      <th></th>\n",
              "      <th>temperature</th>\n",
              "      <th>ON/OFF</th>\n",
              "      <th>Year</th>\n",
              "      <th>Month</th>\n",
              "      <th>Day</th>\n",
              "      <th>Hour</th>\n",
              "      <th>Min</th>\n",
              "      <th>Sec</th>\n",
              "    </tr>\n",
              "  </thead>\n",
              "  <tbody>\n",
              "    <tr>\n",
              "      <th>0</th>\n",
              "      <td>20.5</td>\n",
              "      <td>1</td>\n",
              "      <td>2023</td>\n",
              "      <td>2</td>\n",
              "      <td>10</td>\n",
              "      <td>10</td>\n",
              "      <td>19</td>\n",
              "      <td>17</td>\n",
              "    </tr>\n",
              "    <tr>\n",
              "      <th>1</th>\n",
              "      <td>20.5</td>\n",
              "      <td>1</td>\n",
              "      <td>2023</td>\n",
              "      <td>2</td>\n",
              "      <td>10</td>\n",
              "      <td>10</td>\n",
              "      <td>20</td>\n",
              "      <td>17</td>\n",
              "    </tr>\n",
              "    <tr>\n",
              "      <th>2</th>\n",
              "      <td>20.5</td>\n",
              "      <td>1</td>\n",
              "      <td>2023</td>\n",
              "      <td>2</td>\n",
              "      <td>10</td>\n",
              "      <td>10</td>\n",
              "      <td>21</td>\n",
              "      <td>17</td>\n",
              "    </tr>\n",
              "    <tr>\n",
              "      <th>3</th>\n",
              "      <td>20.5</td>\n",
              "      <td>1</td>\n",
              "      <td>2023</td>\n",
              "      <td>2</td>\n",
              "      <td>10</td>\n",
              "      <td>10</td>\n",
              "      <td>22</td>\n",
              "      <td>17</td>\n",
              "    </tr>\n",
              "    <tr>\n",
              "      <th>4</th>\n",
              "      <td>20.5</td>\n",
              "      <td>1</td>\n",
              "      <td>2023</td>\n",
              "      <td>2</td>\n",
              "      <td>10</td>\n",
              "      <td>10</td>\n",
              "      <td>23</td>\n",
              "      <td>17</td>\n",
              "    </tr>\n",
              "    <tr>\n",
              "      <th>...</th>\n",
              "      <td>...</td>\n",
              "      <td>...</td>\n",
              "      <td>...</td>\n",
              "      <td>...</td>\n",
              "      <td>...</td>\n",
              "      <td>...</td>\n",
              "      <td>...</td>\n",
              "      <td>...</td>\n",
              "    </tr>\n",
              "    <tr>\n",
              "      <th>791</th>\n",
              "      <td>19.2</td>\n",
              "      <td>1</td>\n",
              "      <td>2023</td>\n",
              "      <td>2</td>\n",
              "      <td>10</td>\n",
              "      <td>23</td>\n",
              "      <td>29</td>\n",
              "      <td>16</td>\n",
              "    </tr>\n",
              "    <tr>\n",
              "      <th>792</th>\n",
              "      <td>19.2</td>\n",
              "      <td>1</td>\n",
              "      <td>2023</td>\n",
              "      <td>2</td>\n",
              "      <td>10</td>\n",
              "      <td>23</td>\n",
              "      <td>30</td>\n",
              "      <td>17</td>\n",
              "    </tr>\n",
              "    <tr>\n",
              "      <th>793</th>\n",
              "      <td>19.1</td>\n",
              "      <td>1</td>\n",
              "      <td>2023</td>\n",
              "      <td>2</td>\n",
              "      <td>10</td>\n",
              "      <td>23</td>\n",
              "      <td>31</td>\n",
              "      <td>16</td>\n",
              "    </tr>\n",
              "    <tr>\n",
              "      <th>794</th>\n",
              "      <td>19.1</td>\n",
              "      <td>1</td>\n",
              "      <td>2023</td>\n",
              "      <td>2</td>\n",
              "      <td>10</td>\n",
              "      <td>23</td>\n",
              "      <td>32</td>\n",
              "      <td>16</td>\n",
              "    </tr>\n",
              "    <tr>\n",
              "      <th>795</th>\n",
              "      <td>19.1</td>\n",
              "      <td>1</td>\n",
              "      <td>2023</td>\n",
              "      <td>2</td>\n",
              "      <td>10</td>\n",
              "      <td>23</td>\n",
              "      <td>33</td>\n",
              "      <td>16</td>\n",
              "    </tr>\n",
              "  </tbody>\n",
              "</table>\n",
              "<p>796 rows × 8 columns</p>\n",
              "</div>\n",
              "      <button class=\"colab-df-convert\" onclick=\"convertToInteractive('df-2def0d7f-864f-4ba5-a3ab-b8774c18e65e')\"\n",
              "              title=\"Convert this dataframe to an interactive table.\"\n",
              "              style=\"display:none;\">\n",
              "        \n",
              "  <svg xmlns=\"http://www.w3.org/2000/svg\" height=\"24px\"viewBox=\"0 0 24 24\"\n",
              "       width=\"24px\">\n",
              "    <path d=\"M0 0h24v24H0V0z\" fill=\"none\"/>\n",
              "    <path d=\"M18.56 5.44l.94 2.06.94-2.06 2.06-.94-2.06-.94-.94-2.06-.94 2.06-2.06.94zm-11 1L8.5 8.5l.94-2.06 2.06-.94-2.06-.94L8.5 2.5l-.94 2.06-2.06.94zm10 10l.94 2.06.94-2.06 2.06-.94-2.06-.94-.94-2.06-.94 2.06-2.06.94z\"/><path d=\"M17.41 7.96l-1.37-1.37c-.4-.4-.92-.59-1.43-.59-.52 0-1.04.2-1.43.59L10.3 9.45l-7.72 7.72c-.78.78-.78 2.05 0 2.83L4 21.41c.39.39.9.59 1.41.59.51 0 1.02-.2 1.41-.59l7.78-7.78 2.81-2.81c.8-.78.8-2.07 0-2.86zM5.41 20L4 18.59l7.72-7.72 1.47 1.35L5.41 20z\"/>\n",
              "  </svg>\n",
              "      </button>\n",
              "      \n",
              "  <style>\n",
              "    .colab-df-container {\n",
              "      display:flex;\n",
              "      flex-wrap:wrap;\n",
              "      gap: 12px;\n",
              "    }\n",
              "\n",
              "    .colab-df-convert {\n",
              "      background-color: #E8F0FE;\n",
              "      border: none;\n",
              "      border-radius: 50%;\n",
              "      cursor: pointer;\n",
              "      display: none;\n",
              "      fill: #1967D2;\n",
              "      height: 32px;\n",
              "      padding: 0 0 0 0;\n",
              "      width: 32px;\n",
              "    }\n",
              "\n",
              "    .colab-df-convert:hover {\n",
              "      background-color: #E2EBFA;\n",
              "      box-shadow: 0px 1px 2px rgba(60, 64, 67, 0.3), 0px 1px 3px 1px rgba(60, 64, 67, 0.15);\n",
              "      fill: #174EA6;\n",
              "    }\n",
              "\n",
              "    [theme=dark] .colab-df-convert {\n",
              "      background-color: #3B4455;\n",
              "      fill: #D2E3FC;\n",
              "    }\n",
              "\n",
              "    [theme=dark] .colab-df-convert:hover {\n",
              "      background-color: #434B5C;\n",
              "      box-shadow: 0px 1px 3px 1px rgba(0, 0, 0, 0.15);\n",
              "      filter: drop-shadow(0px 1px 2px rgba(0, 0, 0, 0.3));\n",
              "      fill: #FFFFFF;\n",
              "    }\n",
              "  </style>\n",
              "\n",
              "      <script>\n",
              "        const buttonEl =\n",
              "          document.querySelector('#df-2def0d7f-864f-4ba5-a3ab-b8774c18e65e button.colab-df-convert');\n",
              "        buttonEl.style.display =\n",
              "          google.colab.kernel.accessAllowed ? 'block' : 'none';\n",
              "\n",
              "        async function convertToInteractive(key) {\n",
              "          const element = document.querySelector('#df-2def0d7f-864f-4ba5-a3ab-b8774c18e65e');\n",
              "          const dataTable =\n",
              "            await google.colab.kernel.invokeFunction('convertToInteractive',\n",
              "                                                     [key], {});\n",
              "          if (!dataTable) return;\n",
              "\n",
              "          const docLinkHtml = 'Like what you see? Visit the ' +\n",
              "            '<a target=\"_blank\" href=https://colab.research.google.com/notebooks/data_table.ipynb>data table notebook</a>'\n",
              "            + ' to learn more about interactive tables.';\n",
              "          element.innerHTML = '';\n",
              "          dataTable['output_type'] = 'display_data';\n",
              "          await google.colab.output.renderOutput(dataTable, element);\n",
              "          const docLink = document.createElement('div');\n",
              "          docLink.innerHTML = docLinkHtml;\n",
              "          element.appendChild(docLink);\n",
              "        }\n",
              "      </script>\n",
              "    </div>\n",
              "  </div>\n",
              "  "
            ]
          },
          "metadata": {},
          "execution_count": 13
        }
      ]
    },
    {
      "cell_type": "code",
      "source": [
        "df2 = df2.drop(['Year', 'Month', 'Day', 'Sec'], axis = 1)\n",
        "xpoints = np.arange(0,len(df2))\n",
        "plt.plot(xpoints, df2.temperature)\n",
        "plt.title('Flow of temperature')\n",
        "plt.xlabel('Minutes')\n",
        "plt.ylabel('Temp')"
      ],
      "metadata": {
        "colab": {
          "base_uri": "https://localhost:8080/",
          "height": 489
        },
        "id": "2HoAkDT_Ggp3",
        "outputId": "64ebe365-ee89-4ddc-c491-02bff7a7ea3b"
      },
      "execution_count": null,
      "outputs": [
        {
          "output_type": "execute_result",
          "data": {
            "text/plain": [
              "Text(0, 0.5, 'Temp')"
            ]
          },
          "metadata": {},
          "execution_count": 14
        },
        {
          "output_type": "display_data",
          "data": {
            "text/plain": [
              "<Figure size 640x480 with 1 Axes>"
            ],
            "image/png": "[encoded data removed]"
          },
          "metadata": {}
        }
      ]
    },
    {
      "cell_type": "code",
      "source": [
        "df2"
      ],
      "metadata": {
        "colab": {
          "base_uri": "https://localhost:8080/",
          "height": 424
        },
        "id": "tNt8cxLf246U",
        "outputId": "aa3f3a3b-e403-451c-f872-54e2f7cf3a45"
      },
      "execution_count": null,
      "outputs": [
        {
          "output_type": "execute_result",
          "data": {
            "text/plain": [
              "     temperature  ON/OFF  Hour  Min\n",
              "0           20.5       1    10   19\n",
              "1           20.5       1    10   20\n",
              "2           20.5       1    10   21\n",
              "3           20.5       1    10   22\n",
              "4           20.5       1    10   23\n",
              "..           ...     ...   ...  ...\n",
              "791         19.2       1    23   29\n",
              "792         19.2       1    23   30\n",
              "793         19.1       1    23   31\n",
              "794         19.1       1    23   32\n",
              "795         19.1       1    23   33\n",
              "\n",
              "[796 rows x 4 columns]"
            ],
            "text/html": [
              "\n",
              "  <div id=\"df-cd6a4c81-5eb2-4512-bec0-9561562bc184\">\n",
              "    <div class=\"colab-df-container\">\n",
              "      <div>\n",
              "<style scoped>\n",
              "    .dataframe tbody tr th:only-of-type {\n",
              "        vertical-align: middle;\n",
              "    }\n",
              "\n",
              "    .dataframe tbody tr th {\n",
              "        vertical-align: top;\n",
              "    }\n",
              "\n",
              "    .dataframe thead th {\n",
              "        text-align: right;\n",
              "    }\n",
              "</style>\n",
              "<table border=\"1\" class=\"dataframe\">\n",
              "  <thead>\n",
              "    <tr style=\"text-align: right;\">\n",
              "      <th></th>\n",
              "      <th>temperature</th>\n",
              "      <th>ON/OFF</th>\n",
              "      <th>Hour</th>\n",
              "      <th>Min</th>\n",
              "    </tr>\n",
              "  </thead>\n",
              "  <tbody>\n",
              "    <tr>\n",
              "      <th>0</th>\n",
              "      <td>20.5</td>\n",
              "      <td>1</td>\n",
              "      <td>10</td>\n",
              "      <td>19</td>\n",
              "    </tr>\n",
              "    <tr>\n",
              "      <th>1</th>\n",
              "      <td>20.5</td>\n",
              "      <td>1</td>\n",
              "      <td>10</td>\n",
              "      <td>20</td>\n",
              "    </tr>\n",
              "    <tr>\n",
              "      <th>2</th>\n",
              "      <td>20.5</td>\n",
              "      <td>1</td>\n",
              "      <td>10</td>\n",
              "      <td>21</td>\n",
              "    </tr>\n",
              "    <tr>\n",
              "      <th>3</th>\n",
              "      <td>20.5</td>\n",
              "      <td>1</td>\n",
              "      <td>10</td>\n",
              "      <td>22</td>\n",
              "    </tr>\n",
              "    <tr>\n",
              "      <th>4</th>\n",
              "      <td>20.5</td>\n",
              "      <td>1</td>\n",
              "      <td>10</td>\n",
              "      <td>23</td>\n",
              "    </tr>\n",
              "    <tr>\n",
              "      <th>...</th>\n",
              "      <td>...</td>\n",
              "      <td>...</td>\n",
              "      <td>...</td>\n",
              "      <td>...</td>\n",
              "    </tr>\n",
              "    <tr>\n",
              "      <th>791</th>\n",
              "      <td>19.2</td>\n",
              "      <td>1</td>\n",
              "      <td>23</td>\n",
              "      <td>29</td>\n",
              "    </tr>\n",
              "    <tr>\n",
              "      <th>792</th>\n",
              "      <td>19.2</td>\n",
              "      <td>1</td>\n",
              "      <td>23</td>\n",
              "      <td>30</td>\n",
              "    </tr>\n",
              "    <tr>\n",
              "      <th>793</th>\n",
              "      <td>19.1</td>\n",
              "      <td>1</td>\n",
              "      <td>23</td>\n",
              "      <td>31</td>\n",
              "    </tr>\n",
              "    <tr>\n",
              "      <th>794</th>\n",
              "      <td>19.1</td>\n",
              "      <td>1</td>\n",
              "      <td>23</td>\n",
              "      <td>32</td>\n",
              "    </tr>\n",
              "    <tr>\n",
              "      <th>795</th>\n",
              "      <td>19.1</td>\n",
              "      <td>1</td>\n",
              "      <td>23</td>\n",
              "      <td>33</td>\n",
              "    </tr>\n",
              "  </tbody>\n",
              "</table>\n",
              "<p>796 rows × 4 columns</p>\n",
              "</div>\n",
              "      <button class=\"colab-df-convert\" onclick=\"convertToInteractive('df-cd6a4c81-5eb2-4512-bec0-9561562bc184')\"\n",
              "              title=\"Convert this dataframe to an interactive table.\"\n",
              "              style=\"display:none;\">\n",
              "        \n",
              "  <svg xmlns=\"http://www.w3.org/2000/svg\" height=\"24px\"viewBox=\"0 0 24 24\"\n",
              "       width=\"24px\">\n",
              "    <path d=\"M0 0h24v24H0V0z\" fill=\"none\"/>\n",
              "    <path d=\"M18.56 5.44l.94 2.06.94-2.06 2.06-.94-2.06-.94-.94-2.06-.94 2.06-2.06.94zm-11 1L8.5 8.5l.94-2.06 2.06-.94-2.06-.94L8.5 2.5l-.94 2.06-2.06.94zm10 10l.94 2.06.94-2.06 2.06-.94-2.06-.94-.94-2.06-.94 2.06-2.06.94z\"/><path d=\"M17.41 7.96l-1.37-1.37c-.4-.4-.92-.59-1.43-.59-.52 0-1.04.2-1.43.59L10.3 9.45l-7.72 7.72c-.78.78-.78 2.05 0 2.83L4 21.41c.39.39.9.59 1.41.59.51 0 1.02-.2 1.41-.59l7.78-7.78 2.81-2.81c.8-.78.8-2.07 0-2.86zM5.41 20L4 18.59l7.72-7.72 1.47 1.35L5.41 20z\"/>\n",
              "  </svg>\n",
              "      </button>\n",
              "      \n",
              "  <style>\n",
              "    .colab-df-container {\n",
              "      display:flex;\n",
              "      flex-wrap:wrap;\n",
              "      gap: 12px;\n",
              "    }\n",
              "\n",
              "    .colab-df-convert {\n",
              "      background-color: #E8F0FE;\n",
              "      border: none;\n",
              "      border-radius: 50%;\n",
              "      cursor: pointer;\n",
              "      display: none;\n",
              "      fill: #1967D2;\n",
              "      height: 32px;\n",
              "      padding: 0 0 0 0;\n",
              "      width: 32px;\n",
              "    }\n",
              "\n",
              "    .colab-df-convert:hover {\n",
              "      background-color: #E2EBFA;\n",
              "      box-shadow: 0px 1px 2px rgba(60, 64, 67, 0.3), 0px 1px 3px 1px rgba(60, 64, 67, 0.15);\n",
              "      fill: #174EA6;\n",
              "    }\n",
              "\n",
              "    [theme=dark] .colab-df-convert {\n",
              "      background-color: #3B4455;\n",
              "      fill: #D2E3FC;\n",
              "    }\n",
              "\n",
              "    [theme=dark] .colab-df-convert:hover {\n",
              "      background-color: #434B5C;\n",
              "      box-shadow: 0px 1px 3px 1px rgba(0, 0, 0, 0.15);\n",
              "      filter: drop-shadow(0px 1px 2px rgba(0, 0, 0, 0.3));\n",
              "      fill: #FFFFFF;\n",
              "    }\n",
              "  </style>\n",
              "\n",
              "      <script>\n",
              "        const buttonEl =\n",
              "          document.querySelector('#df-cd6a4c81-5eb2-4512-bec0-9561562bc184 button.colab-df-convert');\n",
              "        buttonEl.style.display =\n",
              "          google.colab.kernel.accessAllowed ? 'block' : 'none';\n",
              "\n",
              "        async function convertToInteractive(key) {\n",
              "          const element = document.querySelector('#df-cd6a4c81-5eb2-4512-bec0-9561562bc184');\n",
              "          const dataTable =\n",
              "            await google.colab.kernel.invokeFunction('convertToInteractive',\n",
              "                                                     [key], {});\n",
              "          if (!dataTable) return;\n",
              "\n",
              "          const docLinkHtml = 'Like what you see? Visit the ' +\n",
              "            '<a target=\"_blank\" href=https://colab.research.google.com/notebooks/data_table.ipynb>data table notebook</a>'\n",
              "            + ' to learn more about interactive tables.';\n",
              "          element.innerHTML = '';\n",
              "          dataTable['output_type'] = 'display_data';\n",
              "          await google.colab.output.renderOutput(dataTable, element);\n",
              "          const docLink = document.createElement('div');\n",
              "          docLink.innerHTML = docLinkHtml;\n",
              "          element.appendChild(docLink);\n",
              "        }\n",
              "      </script>\n",
              "    </div>\n",
              "  </div>\n",
              "  "
            ]
          },
          "metadata": {},
          "execution_count": 15
        }
      ]
    },
    {
      "cell_type": "markdown",
      "source": [
        "# Transform data from 2D tensor to 3D tensor"
      ],
      "metadata": {
        "id": "OSjVJfCL8qUc"
      }
    },
    {
      "cell_type": "code",
      "source": [
        "df2.shape"
      ],
      "metadata": {
        "colab": {
          "base_uri": "https://localhost:8080/"
        },
        "id": "F2defpe59RJ2",
        "outputId": "7eb7fa78-75b8-4f7e-b4ad-8db7045bb3b8"
      },
      "execution_count": null,
      "outputs": [
        {
          "output_type": "execute_result",
          "data": {
            "text/plain": [
              "(796, 4)"
            ]
          },
          "metadata": {},
          "execution_count": 16
        }
      ]
    },
    {
      "cell_type": "code",
      "source": [
        "X0 = []\n",
        "X1 = []\n",
        "X2 = []\n",
        "X3 = []\n",
        "X4 = []\n",
        "X5 = []\n",
        "X6 = []\n",
        "X7 = []\n",
        "y_switch = []\n",
        "y_temp = []\n",
        "\n",
        "ts = 1\n",
        "\n",
        "# Divide each feature in 1 timesteps each\n",
        "for i in range(0, df2.shape[0]-ts):\n",
        "  X0.append(df2.iloc[i:i + ts, 0])\n",
        "  X1.append(df2.iloc[i:i + ts, 1])\n",
        "  X2.append(df2.iloc[i:i + ts, 2])\n",
        "  X3.append(df2.iloc[i:i + ts, 3])\n",
        "\n",
        "\n",
        "  y_temp.append(df2.iloc[i + ts, 0])"
      ],
      "metadata": {
        "id": "hwhp_ThG8xdW"
      },
      "execution_count": null,
      "outputs": []
    },
    {
      "cell_type": "code",
      "source": [
        "X0, X1, X2,X3, y_switch, y_temp = np.array(X0), np.array(X1), np.array(X2), np.array(X3), np.array(y_switch), np.array(y_temp)"
      ],
      "metadata": {
        "id": "8D-Scd1E-Or-"
      },
      "execution_count": null,
      "outputs": []
    },
    {
      "cell_type": "code",
      "source": [
        "y_temp[0]"
      ],
      "metadata": {
        "colab": {
          "base_uri": "https://localhost:8080/"
        },
        "id": "9PFXIHg0YaHI",
        "outputId": "94a6ff68-c015-459c-f172-71b990607cd8"
      },
      "execution_count": null,
      "outputs": [
        {
          "output_type": "execute_result",
          "data": {
            "text/plain": [
              "20.5"
            ]
          },
          "metadata": {},
          "execution_count": 19
        }
      ]
    },
    {
      "cell_type": "code",
      "source": [
        "y_temp = y_temp.reshape(len(y_temp),1)"
      ],
      "metadata": {
        "id": "7OJ7haI6_KQ0"
      },
      "execution_count": null,
      "outputs": []
    },
    {
      "cell_type": "code",
      "source": [
        "y_temp.shape\n",
        "# source for the convertion: https://www.youtube.com/watch?v=Ng_uGKcWfIo"
      ],
      "metadata": {
        "colab": {
          "base_uri": "https://localhost:8080/"
        },
        "id": "ox5IgGME_itF",
        "outputId": "411dee05-5f36-428a-96d9-884f184e0ce1"
      },
      "execution_count": null,
      "outputs": [
        {
          "output_type": "execute_result",
          "data": {
            "text/plain": [
              "(795, 1)"
            ]
          },
          "metadata": {},
          "execution_count": 21
        }
      ]
    },
    {
      "cell_type": "code",
      "source": [
        "X0[0], y_temp[0]"
      ],
      "metadata": {
        "colab": {
          "base_uri": "https://localhost:8080/"
        },
        "id": "e5jJtlxZrkU4",
        "outputId": "00c23b97-e099-4f26-d8f4-670b2de2a79b"
      },
      "execution_count": null,
      "outputs": [
        {
          "output_type": "execute_result",
          "data": {
            "text/plain": [
              "(array([20.5]), array([20.5]))"
            ]
          },
          "metadata": {},
          "execution_count": 22
        }
      ]
    },
    {
      "cell_type": "markdown",
      "source": [
        "# Preprocessing the data"
      ],
      "metadata": {
        "id": "F9ocjUFaE1BQ"
      }
    },
    {
      "cell_type": "code",
      "source": [
        "from sklearn.preprocessing import MinMaxScaler, StandardScaler\n",
        "\n",
        "scaler = MinMaxScaler(feature_range=(0,1))\n",
        "\n",
        "X0_scale = scaler.fit_transform(X0)\n",
        "\n",
        "X1_scale = scaler.fit_transform(X1)\n",
        "\n",
        "X2_scale = scaler.fit_transform(X2)\n",
        "\n",
        "X3_scale = scaler.fit_transform(X3)\n",
        "\n",
        "y_temp_scale = scaler.fit_transform(y_temp)"
      ],
      "metadata": {
        "id": "9HrzfFIH_pv9"
      },
      "execution_count": null,
      "outputs": []
    },
    {
      "cell_type": "code",
      "source": [
        "X = np.stack([X0_scale, X1_scale, X2_scale, X3_scale], axis=2)\n",
        "X.shape, y_temp_scale.shape"
      ],
      "metadata": {
        "colab": {
          "base_uri": "https://localhost:8080/"
        },
        "id": "0LTcZd3pAY3p",
        "outputId": "bb1594b8-6c4f-4eab-f42a-86e1f6c0de69"
      },
      "execution_count": null,
      "outputs": [
        {
          "output_type": "execute_result",
          "data": {
            "text/plain": [
              "((795, 1, 4), (795, 1))"
            ]
          },
          "metadata": {},
          "execution_count": 163
        }
      ]
    },
    {
      "cell_type": "code",
      "source": [
        "X[0], X0_scale[0]"
      ],
      "metadata": {
        "colab": {
          "base_uri": "https://localhost:8080/"
        },
        "id": "Kydi9INHCxSt",
        "outputId": "0fa09d37-142b-4bec-e66d-d47b310b5bc8"
      },
      "execution_count": null,
      "outputs": [
        {
          "output_type": "execute_result",
          "data": {
            "text/plain": [
              "(array([[0.63636364, 1.        , 0.        , 0.3220339 ]]),\n",
              " array([0.63636364]))"
            ]
          },
          "metadata": {},
          "execution_count": 164
        }
      ]
    },
    {
      "cell_type": "markdown",
      "source": [
        "# Train test split"
      ],
      "metadata": {
        "id": "xLOJlcuW2KDB"
      }
    },
    {
      "cell_type": "code",
      "source": [
        "from sklearn.model_selection import train_test_split\n",
        "\n",
        "X_train, X_test, y_train, y_test = train_test_split(X, y_temp_scale, test_size=0.33)"
      ],
      "metadata": {
        "id": "XGG5nxa_zrLU"
      },
      "execution_count": null,
      "outputs": []
    },
    {
      "cell_type": "code",
      "source": [
        "X_train.shape, y_train.shape"
      ],
      "metadata": {
        "colab": {
          "base_uri": "https://localhost:8080/"
        },
        "id": "e_iAm0ecCCGS",
        "outputId": "c13a20db-bbf6-4010-8ce6-39e22cec1999"
      },
      "execution_count": null,
      "outputs": [
        {
          "output_type": "execute_result",
          "data": {
            "text/plain": [
              "((532, 1, 4), (532, 1))"
            ]
          },
          "metadata": {},
          "execution_count": 166
        }
      ]
    },
    {
      "cell_type": "markdown",
      "source": [
        "# Creating the models"
      ],
      "metadata": {
        "id": "QMC4GqDev8L4"
      }
    },
    {
      "cell_type": "code",
      "source": [
        "#from keras.optimizers.optimizer_experimental import optimizer\n",
        "#from keras.optimizers.\n",
        "def LSTM_Model(X,Y,bs,ep, shape1, shape2):\n",
        "  model = keras.Sequential()\n",
        "  model.add(keras.Input(shape=(shape1, shape2)))\n",
        "  model.add(keras.layers.LSTM(25, return_sequences = False)) # 25 best\n",
        "  model.add(keras.layers.Dense(10))\n",
        "  model.add(keras.layers.Dense(1))\n",
        "\n",
        "  print(model.summary())\n",
        "\n",
        "  loss = keras.losses.BinaryCrossentropy(from_logits = True)\n",
        "  opt = keras.optimizers.Adam(learning_rate = 0.001)\n",
        "  met = ['accuracy']\n",
        "\n",
        "  model.compile(optimizer = opt, loss = loss, metrics = met)\n",
        "  model.fit(x = X, \n",
        "            y=Y,\n",
        "            batch_size=bs,\n",
        "            epochs=ep,\n",
        "            validation_split = 0.25\n",
        "            )\n",
        "\n",
        "  return model"
      ],
      "metadata": {
        "id": "EZrYbbbayA9G"
      },
      "execution_count": null,
      "outputs": []
    },
    {
      "cell_type": "markdown",
      "source": [
        "# Training the models"
      ],
      "metadata": {
        "id": "rya8KSyuGo-N"
      }
    },
    {
      "cell_type": "code",
      "source": [
        "batch_size = 32\n",
        "epochs = 5\n",
        "\n",
        "model_lstm_temp = LSTM_Model(X_train, y_train, batch_size, epochs, X_train.shape[1],X_train.shape[2])"
      ],
      "metadata": {
        "colab": {
          "base_uri": "https://localhost:8080/"
        },
        "id": "jAihSvol7f49",
        "outputId": "7c3f56c8-0fd9-4b30-d66f-10224ee0a3a5"
      },
      "execution_count": null,
      "outputs": [
        {
          "output_type": "stream",
          "name": "stdout",
          "text": [
            "Model: \"sequential_36\"\n",
            "_________________________________________________________________\n",
            " Layer (type)                Output Shape              Param #   \n",
            "=================================================================\n",
            " lstm_64 (LSTM)              (None, 25)                3000      \n",
            "                                                                 \n",
            " dense_71 (Dense)            (None, 10)                260       \n",
            "                                                                 \n",
            " dense_72 (Dense)            (None, 1)                 11        \n",
            "                                                                 \n",
            "=================================================================\n",
            "Total params: 3,271\n",
            "Trainable params: 3,271\n",
            "Non-trainable params: 0\n",
            "_________________________________________________________________\n",
            "None\n",
            "Epoch 1/5\n",
            "13/13 [==============================] - 3s 54ms/step - loss: 0.6725 - accuracy: 0.0075 - val_loss: 0.6545 - val_accuracy: 0.0000e+00\n",
            "Epoch 2/5\n",
            "13/13 [==============================] - 0s 8ms/step - loss: 0.6418 - accuracy: 0.0075 - val_loss: 0.6268 - val_accuracy: 0.0000e+00\n",
            "Epoch 3/5\n",
            "13/13 [==============================] - 0s 6ms/step - loss: 0.6152 - accuracy: 0.0201 - val_loss: 0.6047 - val_accuracy: 0.0150\n",
            "Epoch 4/5\n",
            "13/13 [==============================] - 0s 8ms/step - loss: 0.5954 - accuracy: 0.0201 - val_loss: 0.5892 - val_accuracy: 0.0150\n",
            "Epoch 5/5\n",
            "13/13 [==============================] - 0s 8ms/step - loss: 0.5832 - accuracy: 0.0201 - val_loss: 0.5795 - val_accuracy: 0.0150\n"
          ]
        }
      ]
    },
    {
      "cell_type": "code",
      "source": [
        "#Saves the model\n",
        "model_lstm_temp.save('/content/drive/MyDrive/Master_CPS/my_model_temp')"
      ],
      "metadata": {
        "colab": {
          "base_uri": "https://localhost:8080/"
        },
        "id": "iab0UKMX9tG7",
        "outputId": "e70b685e-4e45-45f3-e9e0-ff5d4dedc5a7"
      },
      "execution_count": null,
      "outputs": [
        {
          "output_type": "stream",
          "name": "stderr",
          "text": [
            "WARNING:absl:Found untraced functions such as _update_step_xla, lstm_cell_92_layer_call_fn, lstm_cell_92_layer_call_and_return_conditional_losses while saving (showing 3 of 3). These functions will not be directly callable after loading.\n"
          ]
        }
      ]
    },
    {
      "cell_type": "markdown",
      "source": [
        "# Load the saved model"
      ],
      "metadata": {
        "id": "SjgveGNgmofU"
      }
    },
    {
      "cell_type": "code",
      "source": [
        "# Loads the model\n",
        "temp_model = keras.models.load_model(\"/content/drive/MyDrive/Master_CPS/my_model_temp\")"
      ],
      "metadata": {
        "id": "v8BNNDeHmvhv"
      },
      "execution_count": null,
      "outputs": []
    },
    {
      "cell_type": "markdown",
      "source": [
        "# Evaluation of models"
      ],
      "metadata": {
        "id": "HDkP3P10GeJc"
      }
    },
    {
      "cell_type": "code",
      "source": [
        "temp_model.evaluate(X_test, y_test)"
      ],
      "metadata": {
        "colab": {
          "base_uri": "https://localhost:8080/"
        },
        "id": "2ufbKDEX_5sX",
        "outputId": "011c3946-81fb-45f8-89d8-60ff526b44f5"
      },
      "execution_count": null,
      "outputs": [
        {
          "output_type": "stream",
          "name": "stdout",
          "text": [
            "9/9 [==============================] - 1s 3ms/step - loss: 0.5780 - accuracy: 0.0038\n"
          ]
        },
        {
          "output_type": "execute_result",
          "data": {
            "text/plain": [
              "[0.5779537558555603, 0.0038022813387215137]"
            ]
          },
          "metadata": {},
          "execution_count": 358
        }
      ]
    },
    {
      "cell_type": "code",
      "source": [
        "from tensorflow.python.ops.numpy_ops import np_config\n",
        "np_config.enable_numpy_behavior()\n",
        "\n",
        "testPred_temp = temp_model.predict(X_test)"
      ],
      "metadata": {
        "id": "efPfZg7IKL9Q",
        "colab": {
          "base_uri": "https://localhost:8080/"
        },
        "outputId": "ee241666-45c5-482f-8bbb-95bf35ada416"
      },
      "execution_count": null,
      "outputs": [
        {
          "output_type": "stream",
          "name": "stdout",
          "text": [
            "9/9 [==============================] - 0s 2ms/step\n"
          ]
        }
      ]
    },
    {
      "cell_type": "code",
      "source": [
        "X_test[0][0], y_test[0], testPred_temp[0]"
      ],
      "metadata": {
        "colab": {
          "base_uri": "https://localhost:8080/"
        },
        "id": "MKydFS-ggGqZ",
        "outputId": "4da32111-af8f-4031-cd24-7d3339307248"
      },
      "execution_count": null,
      "outputs": [
        {
          "output_type": "execute_result",
          "data": {
            "text/plain": [
              "(array([0.63636364, 1.        , 0.53846154, 0.66101695]),\n",
              " array([0.63636364]),\n",
              " array([0.7277798], dtype=float32))"
            ]
          },
          "metadata": {},
          "execution_count": 360
        }
      ]
    },
    {
      "cell_type": "code",
      "source": [
        "testPred_temp_inverse = scaler_y.inverse_transform(testPred_temp)\n",
        "temp_actual = scaler_y.inverse_transform(y_test)"
      ],
      "metadata": {
        "id": "GP4j3wkPHkHA"
      },
      "execution_count": null,
      "outputs": []
    },
    {
      "cell_type": "code",
      "source": [
        "testPred_temp_inverse[0], temp_actual[0]"
      ],
      "metadata": {
        "colab": {
          "base_uri": "https://localhost:8080/"
        },
        "id": "IAs65gKQ9Wu1",
        "outputId": "e9fbaf11-f0a5-49bd-d9df-6c91d63a72cd"
      },
      "execution_count": null,
      "outputs": [
        {
          "output_type": "execute_result",
          "data": {
            "text/plain": [
              "(array([20.701117], dtype=float32), array([20.5]))"
            ]
          },
          "metadata": {},
          "execution_count": 362
        }
      ]
    },
    {
      "cell_type": "code",
      "source": [
        "from sklearn.metrics import mean_squared_error\n",
        "\n",
        "testScore = np.sqrt(mean_squared_error(temp_actual, testPred_temp_inverse[:,0]))\n",
        "print('Test Score: %.2f RMSE' % (testScore))"
      ],
      "metadata": {
        "colab": {
          "base_uri": "https://localhost:8080/"
        },
        "id": "fJPeK3OaIXtm",
        "outputId": "5a21f555-32e0-4406-ad1b-8857844fcc54"
      },
      "execution_count": null,
      "outputs": [
        {
          "output_type": "stream",
          "name": "stdout",
          "text": [
            "Test Score: 0.41 RMSE\n"
          ]
        }
      ]
    },
    {
      "cell_type": "code",
      "source": [
        "Xpoints = np.arange(0, len(X_test))\n",
        "\n",
        "plt.plot(Xpoints, testPred_temp_inverse, color = 'r', label = 'Predicted')\n",
        "plt.plot(Xpoints, temp_actual, color = 'b' , linewidth = '0.5', label = 'Actual')\n",
        "plt.title('Pred vs actual')\n",
        "plt.xlabel('Time in minutes')\n",
        "plt.ylabel('Switch (On = 1, Off = 0)')\n",
        "plt.legend(loc = 'best')\n",
        "plt.show()\n",
        "\n",
        "\n",
        "plt.plot(np.arange(0,len(X_test)), df2.temperature.iloc[-X_test.shape[0]:])\n",
        "plt.title('Flow of temperature last 250 minutes')\n",
        "plt.xlabel('Minutes')\n",
        "plt.ylabel('Temp')\n",
        "plt.show()"
      ],
      "metadata": {
        "colab": {
          "base_uri": "https://localhost:8080/",
          "height": 927
        },
        "id": "Pril4uNVAbin",
        "outputId": "6cf1507d-6f92-4fd3-fcfc-3bed10706385"
      },
      "execution_count": null,
      "outputs": [
        {
          "output_type": "display_data",
          "data": {
            "text/plain": [
              "<Figure size 640x480 with 1 Axes>"
            ],
            "image/png": "[encoded data removed]"
          },
          "metadata": {}
        },
        {
          "output_type": "display_data",
          "data": {
            "text/plain": [
              "<Figure size 640x480 with 1 Axes>"
            ],
            "image/png": "[encoded data removed]"
          },
          "metadata": {}
        }
      ]
    },
    {
      "cell_type": "markdown",
      "source": [
        "#Prediction"
      ],
      "metadata": {
        "id": "--93V296XA-E"
      }
    },
    {
      "cell_type": "code",
      "source": [
        "tmp = np.array([[19.6],  [19.7] , [19.8] , [19.9] ])\n",
        "switch = np.array([[1],  [1] , [1] , [1] ])\n",
        "hour = np.array([[10],  [10.] , [10.] , [10.] ])\n",
        "min = np.array([[3],  [6] , [9] , [12] ])\n",
        "\n",
        "tmp_sc = scaler.transform(tmp)\n",
        "switch_sc = scaler.transform(switch)\n",
        "hour_sc = scaler.transform(hour)\n",
        "min_sc = scaler.transform(min)\n",
        "\n",
        "tmp_sc, switch_sc, hour_sc, min_sc = np.array(tmp_sc), np.array(switch_sc), np.array(hour_sc), np.array(min_sc)\n",
        "test = np.stack([tmp_sc, switch_sc, hour_sc, min_sc], axis = 2)\n",
        "\n",
        "test_pred = temp_model.predict(test)\n",
        "test_pred_inverse = scaler.inverse_transform(test_pred)\n",
        "\n",
        "plt.plot(min, test_pred_inverse, marker = 'o' ,label = 'pred')\n",
        "plt.plot(min, tmp, marker = 'o' ,label = 'actual')\n",
        "plt.title('Own test cases')\n",
        "plt.xlabel('Minutes')\n",
        "plt.ylabel('Temp')\n",
        "plt.legend(loc = 'best')\n",
        "plt.show()"
      ],
      "metadata": {
        "colab": {
          "base_uri": "https://localhost:8080/",
          "height": 489
        },
        "id": "MnytAziYv6Br",
        "outputId": "1c0f987c-59d3-47f0-e1e9-c196863dddc3"
      },
      "execution_count": null,
      "outputs": [
        {
          "output_type": "stream",
          "name": "stdout",
          "text": [
            "1/1 [==============================] - 0s 23ms/step\n"
          ]
        },
        {
          "output_type": "display_data",
          "data": {
            "text/plain": [
              "<Figure size 640x480 with 1 Axes>"
            ],
            "image/png": "[encoded data removed]"
          },
          "metadata": {}
        }
      ]
    }
  ]
}